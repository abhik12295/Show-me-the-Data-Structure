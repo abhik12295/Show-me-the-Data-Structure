{
 "cells": [
  {
   "cell_type": "code",
   "execution_count": 1,
   "id": "elementary-struggle",
   "metadata": {},
   "outputs": [
    {
     "name": "stdout",
     "output_type": "stream",
     "text": [
      "The size of the data is: 69\n",
      "\n",
      "The content of the data is: The bird is the word\n",
      "\n",
      "The size of the encoded data is: 48\n",
      "\n",
      "The content of the encoded data is: 100000010000000100000000000101000000001000000000100000000001000000000001000000001001000000000001000100000010000000100000000000100001000001000000000100000000001\n",
      "\n",
      "The size of the decoded data is: 69\n",
      "\n",
      "The content of the encoded data is: The bird is the word\n",
      "\n"
     ]
    }
   ],
   "source": [
    "import sys\n",
    "\n",
    "def huffman_encoding(data):\n",
    "    table = dict()\n",
    "    for char in data:\n",
    "        table[char] = table.get(char, 0) + 1\n",
    "    tree = dict()\n",
    "    temp = '1'\n",
    "    for i in sorted(table.items(), key = lambda x: x[1]):\n",
    "        tree[i[0]] = temp\n",
    "        temp = '0' + temp\n",
    "\n",
    "    encoded = ''\n",
    "    for i in data:\n",
    "        encoded += tree[i]\n",
    "    return encoded, tree\n",
    "\n",
    "def huffman_decoding(data,tree):\n",
    "    huff = dict()\n",
    "    for char in tree:\n",
    "        huff[tree[char]] = char\n",
    "    store = ''\n",
    "    decoded = ''\n",
    "    for d in data:\n",
    "        if d == '1':\n",
    "            decoded += huff[store + d]\n",
    "            store = ''\n",
    "        else:\n",
    "            store += d\n",
    "    return decoded\n",
    "\n",
    "if __name__ == \"__main__\":\n",
    "    codes = {}\n",
    "\n",
    "    a_great_sentence = \"The bird is the word\"\n",
    "\n",
    "    print (\"The size of the data is: {}\\n\".format(sys.getsizeof(a_great_sentence)))\n",
    "    print (\"The content of the data is: {}\\n\".format(a_great_sentence))\n",
    "\n",
    "    encoded_data, tree = huffman_encoding(a_great_sentence)\n",
    "\n",
    "    print (\"The size of the encoded data is: {}\\n\".format(sys.getsizeof(int(encoded_data, base=2))))\n",
    "    print (\"The content of the encoded data is: {}\\n\".format(encoded_data))\n",
    "\n",
    "    decoded_data = huffman_decoding(encoded_data, tree)\n",
    "\n",
    "    print (\"The size of the decoded data is: {}\\n\".format(sys.getsizeof(decoded_data)))\n",
    "    print (\"The content of the encoded data is: {}\\n\".format(decoded_data))"
   ]
  },
  {
   "cell_type": "code",
   "execution_count": null,
   "id": "social-museum",
   "metadata": {},
   "outputs": [],
   "source": []
  }
 ],
 "metadata": {
  "kernelspec": {
   "display_name": "Python 3",
   "language": "python",
   "name": "python3"
  },
  "language_info": {
   "codemirror_mode": {
    "name": "ipython",
    "version": 3
   },
   "file_extension": ".py",
   "mimetype": "text/x-python",
   "name": "python",
   "nbconvert_exporter": "python",
   "pygments_lexer": "ipython3",
   "version": "3.9.1"
  }
 },
 "nbformat": 4,
 "nbformat_minor": 5
}
