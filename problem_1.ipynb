{
 "cells": [
  {
   "cell_type": "code",
   "execution_count": 1,
   "id": "starting-collaboration",
   "metadata": {},
   "outputs": [],
   "source": [
    "# Your work here\n",
    "#Using Hash map and Doubly Linked List\n",
    "#LRU CACHE\n",
    "class Node:\n",
    "    #creating DLL\n",
    "    def __init__(self,key,value):\n",
    "        self.key = key\n",
    "        self.value = value\n",
    "        self.next = None\n",
    "        self.prev = None\n",
    "        \n",
    "            \n",
    "class LRU_Cache(object):\n",
    "    \n",
    "    #defining DLL nodes\n",
    "    def __init__(self,capacity):\n",
    "        self.capacity = capacity  #max capacity to hold\n",
    "        self.hash_map = {}     #creating hash map\n",
    "        self.head = Node(0,0)         #creating dummy head node(0,0)\n",
    "        self.tail = Node(0,0)          #creating dummy tail node(0,0)\n",
    "        #linking head and tail to each other\n",
    "        self.head.next = self.tail\n",
    "        self.tail.prev = self.head\n",
    "        #None definition\n",
    "        self.head.prev = None\n",
    "        self.tail.next = None\n",
    "        \n",
    "    def add(self,key,value):\n",
    "        #created new_node\n",
    "        new_node = Node(key,value)\n",
    "        #set curr to tail\n",
    "        curr = self.head.next\n",
    "        #linking new_node to tail part or curr pointer \n",
    "        new_node.next = curr\n",
    "        curr.prev = new_node\n",
    "        #linking new_node to head part\n",
    "        self.head.next = new_node\n",
    "        new_node.prev= self.head\n",
    "        # added new_node to hashmap\n",
    "        self.hash_map[key] = new_node\n",
    "        \n",
    "    def delete(self,node):\n",
    "        #take 2 pointer nxt and prev to node\n",
    "        nxt = node.next\n",
    "        prev = node.prev\n",
    "        #assign and deleted node\n",
    "        nxt.prev = prev\n",
    "        prev.next = nxt\n",
    "        node.next = None\n",
    "        node.prev = None\n",
    "        node = None\n",
    "    \n",
    "    def get(self,key):\n",
    "        #if key in dictionary\n",
    "        if key in self.hash_map:\n",
    "            #delete node and get\n",
    "            self.delete(self.hash_map[key])\n",
    "            #and add to the most recent\n",
    "            self.add(key,self.hash_map[key].value)\n",
    "            return self.hash_map[key].value\n",
    "        return -1\n",
    "        \n",
    "    def set(self,key,value):\n",
    "        #if key already in dictionary\n",
    "        if key in self.hash_map:\n",
    "            self.delete(self.hash_map[key]) #delete the node at that key\n",
    "            del self.hash_map[key] #delete the value at that key\n",
    "            self.add(key,value)    #add node to that key\n",
    "        #else if len of hash_map == capacity\n",
    "        elif len(self.hash_map)== self.capacity:\n",
    "            #delete LRU node from dict\n",
    "            del self.hash_map[self.tail.prev.key]\n",
    "            #delete LRU node\n",
    "            self.delete(self.tail.prev)\n",
    "            #add new_node\n",
    "            self.add(key,value)\n",
    "        else:\n",
    "            #add node to DLL and add to hash_map if key not in dict\n",
    "            #add 1,2,3,4 limit 5\n",
    "            self.add(key,value)"
   ]
  },
  {
   "cell_type": "code",
   "execution_count": 2,
   "id": "limiting-blood",
   "metadata": {},
   "outputs": [],
   "source": [
    "our_cache = LRU_Cache(5)\n",
    "\n",
    "our_cache.set(1, 1);\n",
    "our_cache.set(2, 2);\n",
    "our_cache.set(3, 3);\n",
    "our_cache.set(4, 4);"
   ]
  },
  {
   "cell_type": "code",
   "execution_count": 3,
   "id": "adjacent-calibration",
   "metadata": {},
   "outputs": [
    {
     "data": {
      "text/plain": [
       "1"
      ]
     },
     "execution_count": 3,
     "metadata": {},
     "output_type": "execute_result"
    }
   ],
   "source": [
    "our_cache.get(1)       # returns 1"
   ]
  },
  {
   "cell_type": "code",
   "execution_count": 4,
   "id": "sweet-yukon",
   "metadata": {},
   "outputs": [
    {
     "data": {
      "text/plain": [
       "2"
      ]
     },
     "execution_count": 4,
     "metadata": {},
     "output_type": "execute_result"
    }
   ],
   "source": [
    "our_cache.get(2)       # returns 2\n"
   ]
  },
  {
   "cell_type": "code",
   "execution_count": 5,
   "id": "popular-developer",
   "metadata": {},
   "outputs": [
    {
     "data": {
      "text/plain": [
       "-1"
      ]
     },
     "execution_count": 5,
     "metadata": {},
     "output_type": "execute_result"
    }
   ],
   "source": [
    "our_cache.get(9)      # returns -1 because 9 is not present in the cache\n"
   ]
  },
  {
   "cell_type": "code",
   "execution_count": 6,
   "id": "educated-ambassador",
   "metadata": {},
   "outputs": [],
   "source": [
    "our_cache.set(5, 5) \n"
   ]
  },
  {
   "cell_type": "code",
   "execution_count": 7,
   "id": "undefined-italic",
   "metadata": {},
   "outputs": [],
   "source": [
    "our_cache.set(6, 6)\n",
    "\n"
   ]
  },
  {
   "cell_type": "code",
   "execution_count": 8,
   "id": "equivalent-southeast",
   "metadata": {},
   "outputs": [
    {
     "data": {
      "text/plain": [
       "-1"
      ]
     },
     "execution_count": 8,
     "metadata": {},
     "output_type": "execute_result"
    }
   ],
   "source": [
    "our_cache.get(3) # returns -1 because the cache reached it's capacity and 3 was the least recently used entry"
   ]
  },
  {
   "cell_type": "code",
   "execution_count": null,
   "id": "smaller-lafayette",
   "metadata": {},
   "outputs": [],
   "source": []
  }
 ],
 "metadata": {
  "kernelspec": {
   "display_name": "Python 3",
   "language": "python",
   "name": "python3"
  },
  "language_info": {
   "codemirror_mode": {
    "name": "ipython",
    "version": 3
   },
   "file_extension": ".py",
   "mimetype": "text/x-python",
   "name": "python",
   "nbconvert_exporter": "python",
   "pygments_lexer": "ipython3",
   "version": "3.9.1"
  }
 },
 "nbformat": 4,
 "nbformat_minor": 5
}
