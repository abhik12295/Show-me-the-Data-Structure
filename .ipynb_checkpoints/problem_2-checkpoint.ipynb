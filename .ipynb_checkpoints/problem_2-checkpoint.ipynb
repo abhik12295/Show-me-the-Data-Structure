{
 "cells": [
  {
   "cell_type": "code",
   "execution_count": 14,
   "id": "thick-sixth",
   "metadata": {},
   "outputs": [],
   "source": [
    "import os\n",
    "def find_files(suffix, path):\n",
    "    \"\"\"\n",
    "    Find all files beneath path with file name suffix.Note that a path may \n",
    "    contain further subdirectories and those subdirectories may also contain\n",
    "    further subdirectories.There are no limit to the depth of the subdirectories\n",
    "    can be.\n",
    "    Args:\n",
    "        suffix(str): suffix if the file name to be found\n",
    "        path(str): path of the file system\n",
    "    Returns:\n",
    "        list: a list of paths\n",
    "    \"\"\"\n",
    "    files = []\n",
    "    if os.path.isdir(path):\n",
    "        # iterating items\n",
    "        for item in os.listdir(path):\n",
    "            # Recursion and appending to list\n",
    "            for file in find_files(suffix, os.path.join(path, item)):\n",
    "                files.append(file)\n",
    "    # suffix end with .c, add it to the list\n",
    "    if path.endswith(suffix):\n",
    "        files.append(path)\n",
    "    return files"
   ]
  },
  {
   "cell_type": "code",
   "execution_count": 12,
   "id": "detected-person",
   "metadata": {},
   "outputs": [
    {
     "name": "stdout",
     "output_type": "stream",
     "text": [
      "['.ipynb_checkpoints', 'explanation_1.md.txt', 'problem_1.ipynb', 'problem_2.ipynb', 'Workbook(1).ipynb']\n",
      "False\n",
      "True\n"
     ]
    }
   ],
   "source": [
    "# Let us print the files in the directory in which you are running this script\n",
    "print (os.listdir(\".\"))\n",
    "\n",
    "# Let us check if this file is indeed a file!\n",
    "print (os.path.isfile(\"./ex.py\"))  #return False\n",
    "\n",
    "# Does the file end with .py?\n",
    "print (\"./ex.py\".endswith(\".py\")) #True"
   ]
  },
  {
   "cell_type": "code",
   "execution_count": 13,
   "id": "cheap-thesaurus",
   "metadata": {},
   "outputs": [
    {
     "name": "stdout",
     "output_type": "stream",
     "text": [
      "Fail\n",
      "Pass\n",
      "Pass\n",
      "Pass\n",
      "Pass\n"
     ]
    }
   ],
   "source": [
    "print(\"Pass\" if find_files(\".c\",\"./testdir\") == [\"./testdir/subdir3/subsubdir1/b.c\", \"./testdir/t1.c\",\n",
    "                                                  \"./testdir/subdir5/a.c\", \"./testdir/subdir1/a.c\"] else \"Fail\")\n",
    "print(\"Pass\" if find_files(\".c\",\"./testdir/t1.c\") == [\"./testdir/t1.c\"] else \"Fail\")\n",
    "print(\"Pass\" if find_files(\".c\",\"./testdir/subdir3/subsubdir1/b.c\") == [\"./testdir/subdir3/subsubdir1/b.c\"] else \"Fail\") \n",
    "print(\"Pass\" if find_files(\".c\",\"\") == [] else \"Fail\") #edge case when path is not provided\n",
    "print(\"Pass\" if find_files(\".c\",\"./testdir/subdir2\") == [] else \"Fail\")"
   ]
  },
  {
   "cell_type": "code",
   "execution_count": 15,
   "id": "alternate-commitment",
   "metadata": {},
   "outputs": [
    {
     "data": {
      "text/plain": [
       "['./testdir/t1.c']"
      ]
     },
     "execution_count": 15,
     "metadata": {},
     "output_type": "execute_result"
    }
   ],
   "source": [
    "find_files(\".c\",\"./testdir/t1.c\")"
   ]
  },
  {
   "cell_type": "code",
   "execution_count": null,
   "id": "thorough-raleigh",
   "metadata": {},
   "outputs": [],
   "source": []
  }
 ],
 "metadata": {
  "kernelspec": {
   "display_name": "Python 3",
   "language": "python",
   "name": "python3"
  },
  "language_info": {
   "codemirror_mode": {
    "name": "ipython",
    "version": 3
   },
   "file_extension": ".py",
   "mimetype": "text/x-python",
   "name": "python",
   "nbconvert_exporter": "python",
   "pygments_lexer": "ipython3",
   "version": "3.9.1"
  }
 },
 "nbformat": 4,
 "nbformat_minor": 5
}
