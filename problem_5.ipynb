{
 "cells": [
  {
   "cell_type": "code",
   "execution_count": 1,
   "id": "found-routine",
   "metadata": {},
   "outputs": [],
   "source": [
    "import hashlib\n",
    "import time\n",
    "class Block:\n",
    "    def __init__(self,data, previous_hash):\n",
    "        self.timestamp = time.strftime(\"%a, %d %b %Y %I:%M:%S %p %Z\", time.gmtime())\n",
    "        self.data = data\n",
    "        self.previous_hash = previous_hash\n",
    "        self.hash = self.calc_hash(self.data)\n",
    "        self.next = None\n",
    "        self.prev = None\n",
    "\n",
    "    def calc_hash(self, hash_str):\n",
    "        sha = hashlib.sha256()\n",
    "        hash_str = \"We are going to encode this string of data!\".encode('utf-8')\n",
    "        sha.update(hash_str)\n",
    "        return sha.hexdigest()\n",
    "        \n",
    "    \n",
    "class LinkedList:\n",
    "    def __init__(self):\n",
    "        self.head = None\n",
    "        self.tail = None\n",
    "        \n",
    "    def append(self,data):\n",
    "        if self.head is None:\n",
    "            self.head = Block(data, 0)\n",
    "            self.tail = self.head\n",
    "            return\n",
    "\n",
    "        self.tail.next = Block(data, self.tail.hash)\n",
    "        self.tail.next.previous = self.tail\n",
    "        self.tail = self.tail.next\n",
    "        return\n",
    "    \n",
    "    def __str__(self):\n",
    "        cur_head = self.head\n",
    "        out_string = \"\"\n",
    "        while cur_head:\n",
    "            out_string += '|'+cur_head.timestamp + ',' + str(cur_head.data) + ',' +cur_head.hash +',' + str(cur_head.previous_hash) + '|'+  \" <- \"\n",
    "            cur_head = cur_head.next\n",
    "        return out_string\n",
    "    \n",
    "    def size(self):\n",
    "        size = 0\n",
    "        node = self.head\n",
    "        while node:\n",
    "            size += 1\n",
    "            node = node.next\n",
    "        \n",
    "        return size\n",
    "            \n",
    "    "
   ]
  },
  {
   "cell_type": "code",
   "execution_count": 2,
   "id": "false-dairy",
   "metadata": {},
   "outputs": [
    {
     "name": "stdout",
     "output_type": "stream",
     "text": [
      "|Thu, 15 Jul 2021 09:40:20 PM Central Standard Time,my first blockchain,a20200a94c75010576e2d6a83e6fa69271901a9d805894b28bd91e6054fbfd10,0| <- |Thu, 15 Jul 2021 09:40:20 PM Central Standard Time,second blockchain,a20200a94c75010576e2d6a83e6fa69271901a9d805894b28bd91e6054fbfd10,a20200a94c75010576e2d6a83e6fa69271901a9d805894b28bd91e6054fbfd10| <- |Thu, 15 Jul 2021 09:40:20 PM Central Standard Time,third blockchain,a20200a94c75010576e2d6a83e6fa69271901a9d805894b28bd91e6054fbfd10,a20200a94c75010576e2d6a83e6fa69271901a9d805894b28bd91e6054fbfd10| <- |Thu, 15 Jul 2021 09:40:20 PM Central Standard Time,forth blockchain,a20200a94c75010576e2d6a83e6fa69271901a9d805894b28bd91e6054fbfd10,a20200a94c75010576e2d6a83e6fa69271901a9d805894b28bd91e6054fbfd10| <- \n",
      "Data is a required input to the block\n"
     ]
    }
   ],
   "source": [
    "b1 = LinkedList() \n",
    "b1.append('my first blockchain')\n",
    "b1.append('second blockchain')\n",
    "b1.append('third blockchain')\n",
    "b1.append('forth blockchain')\n",
    "print(b1)\n",
    "\n",
    "# Test 2: empty blocks\n",
    "b2 = LinkedList()\n",
    "try:\n",
    "    b2.append() #raise error when trying to create a block with no data\n",
    "except TypeError:\n",
    "    print(\"Data is a required input to the block\")\n",
    "\n",
    "# Test 3: intput data has to be integer type\n",
    "b3 = LinkedList()\n",
    "b3.append(1)"
   ]
  },
  {
   "cell_type": "code",
   "execution_count": null,
   "id": "selective-lodge",
   "metadata": {},
   "outputs": [],
   "source": []
  }
 ],
 "metadata": {
  "kernelspec": {
   "display_name": "Python 3",
   "language": "python",
   "name": "python3"
  },
  "language_info": {
   "codemirror_mode": {
    "name": "ipython",
    "version": 3
   },
   "file_extension": ".py",
   "mimetype": "text/x-python",
   "name": "python",
   "nbconvert_exporter": "python",
   "pygments_lexer": "ipython3",
   "version": "3.9.1"
  }
 },
 "nbformat": 4,
 "nbformat_minor": 5
}
